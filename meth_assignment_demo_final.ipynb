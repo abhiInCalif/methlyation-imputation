{
 "cells": [
  {
   "cell_type": "markdown",
   "metadata": {},
   "source": [
    "# COS 424 Homework 2 Demo"
   ]
  },
  {
   "cell_type": "code",
   "execution_count": 15,
   "metadata": {
    "collapsed": true
   },
   "outputs": [],
   "source": [
    "import math\n",
    "import numpy as np \n",
    "from sklearn import tree\n",
    "from IPython.display import Image  \n",
    "from sklearn.externals.six import StringIO\n",
    "#import pydot\n",
    "import pandas\n",
    "import os\n",
    "# Enter your directory here\n",
    "os.chdir('/Users/abkhanna/Documents/workspace/Princeton/cos424/a2/methylation_imputation-master')"
   ]
  },
  {
   "cell_type": "markdown",
   "metadata": {},
   "source": [
    "## Data import: writing a parser\n",
    "\n",
    "One approach to importing the dataset can be to write a custom parser that reads in the data in your preferred format: (we will discuss an alternate approach later) "
   ]
  },
  {
   "cell_type": "code",
   "execution_count": 16,
   "metadata": {
    "collapsed": true
   },
   "outputs": [],
   "source": [
    "# utility functions to parse chromosome files\n",
    "\n",
    "# parse training file\n",
    "def parseTrainFile(filename='data/intersected_final_chr1_cutoff_20_train.bed'):\n",
    "    # open train file\n",
    "    flTestTissue = open(filename, 'r')\n",
    "    lines = flTestTissue.readlines()\n",
    "    flTestTissue.close()\n",
    "\n",
    "    # example of a line\n",
    "    # chr1\t10562\t10564\t+\t0.82051283\t0.962963\t0.9305556\t0.79591835\t0.9315069\t0.92941177\t0.975\t0.9569892\t0.8125\tnan\t0.8518519\t0.8518519\t0.95454544\t0.8684211\t0.9661017\t0.8630137\t0.8679245\t0.9230769\t0.8372093\t0.9326923\t0.9425287\t0.975\t0.93670887\t0.9491525\t0.9425287\tnan\tnan\t0.8695652\t0.87931037\t0.88235295\t0.92941177\t0.9705882\t0.90625\t0\n",
    "\n",
    "    # parse lines\n",
    "    lineIndex = 0\n",
    "    dLocPredVals = {}\n",
    "    for line in lines:\n",
    "\titems = line[:-1].split('\t')\n",
    "\tchrom = items[0]\n",
    "\tlocStart = int(items[1])\n",
    "\tlocEnd = int(items[2])\n",
    "\tsign = items[3]\n",
    "\tmethVals = [float(a) for a in items[4:]]\t\n",
    "\tx = np.all(np.isnan(methVals))\n",
    "\t#print x\n",
    "        locPair = (lineIndex, locStart, locEnd)\n",
    "\tdLocPredVals[locPair] = np.array(methVals) \n",
    "\tlineIndex +=1\n",
    "    return dLocPredVals;\n",
    "\n",
    "    \n",
    "# parse predictor file    \n",
    "def parsePartialFullFile(filename='data/intersected_final_chr1_cutoff_20_sample_partial.bed'):\n",
    "    # open partial file\n",
    "    flTestTissue = open(filename, 'r')\n",
    "    lines = flTestTissue.readlines()\n",
    "    flTestTissue.close()\n",
    "\n",
    "    # chr1\t100508463\t100508465\t+\t      nan\t0\n",
    "    # chr1\t546983\t           546985\t+\t0.8518519\t1\n",
    "    \n",
    "    # parse lines\n",
    "    lPairs = []\n",
    "    trainingIndices = []\n",
    "    testingIndices = []\n",
    "    lineIndex = 0\n",
    "    for line in lines:\n",
    "\t#print line\n",
    "\titems = line[:-1].split('\t')\n",
    "\tchrom = items[0]\n",
    "\tlocStart = int(items[1])\n",
    "\tlocEnd = int(items[2])\n",
    "\tstrand = items[3]\n",
    "\tmethValStr = items[4]\n",
    "\t#print items[4]\n",
    "\tif methValStr == 'nan':\n",
    "\t    methVal = -2.0;\n",
    "\t    testingIndices.append(lineIndex)\n",
    "\telse:\n",
    "\t    methVal = float(methValStr)\n",
    "\t    trainingIndices.append(lineIndex)\n",
    "\tlocPair = [lineIndex, locStart, locEnd,methVal]\n",
    "\tlPairs.append(locPair)\n",
    "\tlineIndex +=1;\n",
    "    lPairs = np.array(lPairs)\n",
    "    return lPairs,testingIndices, trainingIndices\n",
    "\t"
   ]
  },
  {
   "cell_type": "code",
   "execution_count": 17,
   "metadata": {
    "collapsed": false
   },
   "outputs": [
    {
     "name": "stdout",
     "output_type": "stream",
     "text": [
      "Number of testing indices 372028\n",
      "Number of training indices 7523\n"
     ]
    }
   ],
   "source": [
    "# parse partial file\n",
    "lPairs,testingIndices, trainingIndices = parsePartialFullFile()\n",
    "print \"Number of testing indices \" + str(len(testingIndices))\n",
    "print \"Number of training indices \" + str(len(trainingIndices))"
   ]
  },
  {
   "cell_type": "code",
   "execution_count": 18,
   "metadata": {
    "collapsed": false
   },
   "outputs": [
    {
     "name": "stdout",
     "output_type": "stream",
     "text": [
      "379551\n",
      "379551\n"
     ]
    }
   ],
   "source": [
    "# parse training file\n",
    "dLocPredVals = parseTrainFile()\n",
    "print len(dLocPredVals.values())\n",
    "print len(testingIndices) + len(trainingIndices)"
   ]
  },
  {
   "cell_type": "code",
   "execution_count": 19,
   "metadata": {
    "collapsed": false
   },
   "outputs": [
    {
     "name": "stdout",
     "output_type": "stream",
     "text": [
      "(379551, 34)\n",
      "[ 0.9148936   0.9268293   0.96153843  0.8867925   0.921875    0.88709676\n",
      "  0.89830506  0.9701493   0.94545454  0.8913044   0.93939394  0.8965517\n",
      "  0.9047619   0.6875      0.9189189   0.94871795  0.9230769   0.94285715\n",
      "  0.884058    0.93939394  0.87096775  0.9183673   0.8947368   0.82608694\n",
      "  0.84444445  0.68795432  0.60750366  0.8         0.72911892  0.94736844\n",
      "  0.9322034   0.8636364   0.9574468   0.        ]\n",
      "[  1.08400000e+03   5.34241000e+05   5.34243000e+05   6.88888900e-01]\n"
     ]
    }
   ],
   "source": [
    "# replace nan-entries of the traininig data arrays by averages\n",
    "allStacked = np.array(dLocPredVals.values())\n",
    "colMeans = np.nanmean(allStacked,axis=0)\n",
    "\n",
    "#http://stackoverflow.com/questions/18689235/numpy-array-replace-nan-values-with-average-of-columns\n",
    "#Find indicies that you need to replace\n",
    "inds = np.where(np.isnan(allStacked))\n",
    "#Place column means in the indices. Align the arrays using take\n",
    "allStacked[inds]=np.take(colMeans,inds[1])\n",
    "\n",
    "# lets see how the data loots line\n",
    "print allStacked.shape\n",
    "print allStacked[testingIndices[0],:]\n",
    "print lPairs[trainingIndices[0]]"
   ]
  },
  {
   "cell_type": "code",
   "execution_count": 20,
   "metadata": {
    "collapsed": false
   },
   "outputs": [
    {
     "name": "stdout",
     "output_type": "stream",
     "text": [
      "(7523, 34)\n",
      "(7523,)\n"
     ]
    }
   ],
   "source": [
    "# extract training indices\n",
    "X = np.take(allStacked,trainingIndices,axis=0)\n",
    "Y = np.take(lPairs,trainingIndices,axis=0)\n",
    "Y = Y[:,3] # take the leftmost column\n",
    "print X.shape\n",
    "print Y.shape"
   ]
  },
  {
   "cell_type": "markdown",
   "metadata": {},
   "source": [
    "## Testing out a simple method: Decision Tree?\n",
    "\n",
    "Will creating a decision tree be a good approach for this problem? In this approach, we train a regression decision tree as our model. This model splits the data into a tree and fits a linear repression model at each leaf. The main motivation is that this model can simultaneously select features and tune linear regression models at each leaf, i.e. can explain non-linear relationships between input and output variables. Finally, it provides an explanation of the model through a visual tree."
   ]
  },
  {
   "cell_type": "code",
   "execution_count": 21,
   "metadata": {
    "collapsed": true
   },
   "outputs": [],
   "source": [
    "# train a regression decision tree classifier on the first 10 training entries\n",
    "# http://scikit-learn.org/stable/modules/generated/sklearn.tree.DecisionTreeRegressor.html\n",
    "\n",
    "clf = tree.DecisionTreeRegressor(max_depth=10)\n",
    "clf = clf.fit(X[0:1000], Y[0:1000])"
   ]
  },
  {
   "cell_type": "code",
   "execution_count": 22,
   "metadata": {
    "collapsed": true
   },
   "outputs": [],
   "source": [
    "# fit decision tree to all of data\n",
    "clf_all = clf.fit(X, Y)"
   ]
  },
  {
   "cell_type": "code",
   "execution_count": 23,
   "metadata": {
    "collapsed": false
   },
   "outputs": [
    {
     "ename": "NameError",
     "evalue": "name 'pydot' is not defined",
     "output_type": "error",
     "traceback": [
      "\u001b[0;31m---------------------------------------------------------------------------\u001b[0m",
      "\u001b[0;31mNameError\u001b[0m                                 Traceback (most recent call last)",
      "\u001b[0;32m<ipython-input-23-98d01993ea9b>\u001b[0m in \u001b[0;36m<module>\u001b[0;34m()\u001b[0m\n\u001b[1;32m      4\u001b[0m \u001b[0mtree\u001b[0m\u001b[0;34m.\u001b[0m\u001b[0mexport_graphviz\u001b[0m\u001b[0;34m(\u001b[0m\u001b[0mclf\u001b[0m\u001b[0;34m,\u001b[0m \u001b[0mout_file\u001b[0m\u001b[0;34m=\u001b[0m\u001b[0mdot_data\u001b[0m\u001b[0;34m)\u001b[0m\u001b[0;34m\u001b[0m\u001b[0m\n\u001b[1;32m      5\u001b[0m \u001b[0;34m\u001b[0m\u001b[0m\n\u001b[0;32m----> 6\u001b[0;31m \u001b[0mgraph\u001b[0m \u001b[0;34m=\u001b[0m \u001b[0mpydot\u001b[0m\u001b[0;34m.\u001b[0m\u001b[0mgraph_from_dot_data\u001b[0m\u001b[0;34m(\u001b[0m\u001b[0mdot_data\u001b[0m\u001b[0;34m.\u001b[0m\u001b[0mgetvalue\u001b[0m\u001b[0;34m(\u001b[0m\u001b[0;34m)\u001b[0m\u001b[0;34m)\u001b[0m\u001b[0;34m\u001b[0m\u001b[0m\n\u001b[0m\u001b[1;32m      7\u001b[0m \u001b[0mImage\u001b[0m\u001b[0;34m(\u001b[0m\u001b[0mgraph\u001b[0m\u001b[0;34m.\u001b[0m\u001b[0mcreate_png\u001b[0m\u001b[0;34m(\u001b[0m\u001b[0;34m)\u001b[0m\u001b[0;34m)\u001b[0m\u001b[0;34m\u001b[0m\u001b[0m\n\u001b[1;32m      8\u001b[0m \u001b[0;31m#graph.write_pdf(\"dd.pdf\")\u001b[0m\u001b[0;34m\u001b[0m\u001b[0;34m\u001b[0m\u001b[0m\n",
      "\u001b[0;31mNameError\u001b[0m: name 'pydot' is not defined"
     ]
    }
   ],
   "source": [
    "# draw decision tree - Keep in mind that you need to have pydot installed!\n",
    "from IPython.display import Image  \n",
    "dot_data = StringIO()  \n",
    "tree.export_graphviz(clf, out_file=dot_data)\n",
    "\n",
    "graph = pydot.graph_from_dot_data(dot_data.getvalue())  \n",
    "Image(graph.create_png())  \n",
    "#graph.write_pdf(\"dd.pdf\") "
   ]
  },
  {
   "cell_type": "code",
   "execution_count": 24,
   "metadata": {
    "collapsed": false
   },
   "outputs": [
    {
     "name": "stdout",
     "output_type": "stream",
     "text": [
      "(379551, 4)\n"
     ]
    }
   ],
   "source": [
    "# extract testing data\n",
    "# compare to existing values from the full file\n",
    "lPairs_all,_,_ = parsePartialFullFile('data/intersected_final_chr1_cutoff_20_sample_full.bed')\n",
    "print lPairs_all.shape"
   ]
  },
  {
   "cell_type": "code",
   "execution_count": 25,
   "metadata": {
    "collapsed": false
   },
   "outputs": [
    {
     "name": "stdout",
     "output_type": "stream",
     "text": [
      "Number of indices for which values exist: 375934\n",
      "Number of testing indices: 372028\n",
      "Number of testing indices: 368411\n"
     ]
    }
   ],
   "source": [
    "# some of the methylation values are not known, so we take care to filter those out\n",
    "# extract indices where values exist\n",
    "values_exist = np.where(lPairs_all[:,3]!=-2.0)[0]\n",
    "# find the trsting indices for which values exist\n",
    "final_testing_indices = np.intersect1d(values_exist, testingIndices)\n",
    "print \"Number of indices for which values exist: \" + str(len(values_exist))\n",
    "print \"Number of testing indices: \" + str(len(testingIndices))\n",
    "print \"Number of testing indices: \" + str(len(final_testing_indices)) "
   ]
  },
  {
   "cell_type": "code",
   "execution_count": 26,
   "metadata": {
    "collapsed": false
   },
   "outputs": [
    {
     "name": "stdout",
     "output_type": "stream",
     "text": [
      "Known values shape: (368411,)\n",
      "Test feature vectors shape: (368411, 34)\n",
      "Predictions: \n",
      "[ 0.74566285  0.74566285  0.74566285 ...,  0.78181282  0.74566285\n",
      "  0.74566285]\n",
      "Ground Truth: \n",
      "[ 0.9137931   0.9318182   0.91752577 ...,  0.89772725  0.87341774\n",
      "  0.96103895]\n"
     ]
    }
   ],
   "source": [
    "# extract the known values for testing\n",
    "Y_test1 = np.take(lPairs_all,final_testing_indices,axis=0)[:,3]\n",
    "print \"Known values shape: \" + str(Y_test1.shape)\n",
    "\n",
    "# extract testing data features for prediction\n",
    "X_test1 = np.take(allStacked,final_testing_indices,axis=0)\n",
    "print \"Test feature vectors shape: \" + str(X_test1.shape)\n",
    "\n",
    "predictions = clf.predict(X_test1)\n",
    "\n",
    "# print predictions\n",
    "print \"Predictions: \"\n",
    "print predictions\n",
    "print \"Ground Truth: \"\n",
    "print Y_test1\n"
   ]
  },
  {
   "cell_type": "code",
   "execution_count": 27,
   "metadata": {
    "collapsed": false
   },
   "outputs": [
    {
     "ename": "ImportError",
     "evalue": "No module named statsmodels.api",
     "output_type": "error",
     "traceback": [
      "\u001b[0;31m---------------------------------------------------------------------------\u001b[0m",
      "\u001b[0;31mImportError\u001b[0m                               Traceback (most recent call last)",
      "\u001b[0;32m<ipython-input-27-d9ca3cb421ab>\u001b[0m in \u001b[0;36m<module>\u001b[0;34m()\u001b[0m\n\u001b[1;32m      1\u001b[0m \u001b[0;31m# fit a linear regression line\u001b[0m\u001b[0;34m\u001b[0m\u001b[0;34m\u001b[0m\u001b[0m\n\u001b[1;32m      2\u001b[0m \u001b[0;31m# http://stackoverflow.com/questions/19068862/how-to-overplot-a-line-on-a-scatter-plot-in-python\u001b[0m\u001b[0;34m\u001b[0m\u001b[0;34m\u001b[0m\u001b[0m\n\u001b[0;32m----> 3\u001b[0;31m \u001b[0;32mimport\u001b[0m \u001b[0mstatsmodels\u001b[0m\u001b[0;34m.\u001b[0m\u001b[0mapi\u001b[0m \u001b[0;32mas\u001b[0m \u001b[0msm\u001b[0m\u001b[0;34m\u001b[0m\u001b[0m\n\u001b[0m\u001b[1;32m      4\u001b[0m \u001b[0mxs\u001b[0m \u001b[0;34m=\u001b[0m \u001b[0mY_test1\u001b[0m\u001b[0;34m\u001b[0m\u001b[0m\n\u001b[1;32m      5\u001b[0m \u001b[0mys\u001b[0m \u001b[0;34m=\u001b[0m \u001b[0mpredictions\u001b[0m\u001b[0;34m\u001b[0m\u001b[0m\n",
      "\u001b[0;31mImportError\u001b[0m: No module named statsmodels.api"
     ]
    }
   ],
   "source": [
    "# fit a linear regression line\n",
    "# http://stackoverflow.com/questions/19068862/how-to-overplot-a-line-on-a-scatter-plot-in-python\n",
    "import statsmodels.api as sm\n",
    "xs = Y_test1\n",
    "ys = predictions\n",
    "results = sm.OLS(ys,sm.add_constant(xs)).fit()\n",
    "\n",
    "print results.summary()\n",
    "\n",
    "plt.scatter(xs,ys)\n",
    "\n",
    "#X_plot = np.linspace(0,1,100)\n",
    "plt.plot(xs, xs*results.params[0] + results.params[1])\n",
    "plt.xlabel('Ground Truth')\n",
    "plt.ylabel('Predictions')\n",
    "plt.title('Plot of Ground Truth Methylation values vs Predictions ( Training Data)')\n",
    "plt.show()"
   ]
  },
  {
   "cell_type": "code",
   "execution_count": 28,
   "metadata": {
    "collapsed": false
   },
   "outputs": [
    {
     "name": "stdout",
     "output_type": "stream",
     "text": [
      "0.0363327394994\n",
      "sqrt: 0.190611488372\n"
     ]
    }
   ],
   "source": [
    "# compute mean squared error\n",
    "mean_sq_error = np.mean((Y_test1-predictions)**2)\n",
    "print mean_sq_error\n",
    "print \"sqrt: \" + str(np.sqrt(mean_sq_error))"
   ]
  },
  {
   "cell_type": "code",
   "execution_count": 29,
   "metadata": {
    "collapsed": false
   },
   "outputs": [
    {
     "data": {
      "text/plain": [
       "array([[ 1.        ,  0.00230105],\n",
       "       [ 0.00230105,  1.        ]])"
      ]
     },
     "execution_count": 29,
     "metadata": {},
     "output_type": "execute_result"
    }
   ],
   "source": [
    "np.corrcoef(Y_test1,predictions)"
   ]
  },
  {
   "cell_type": "markdown",
   "metadata": {},
   "source": [
    "As you can see, with RMSE = 0.191 and r = 0.002, this is not performing as well as we would like... Let's start over, shall we?"
   ]
  },
  {
   "cell_type": "markdown",
   "metadata": {},
   "source": [
    "## Alternate method for Data import: pandas\n",
    "\n",
    "### [pandas](http://pandas.pydata.org/) is a python package that is aimed at dealing with data inputs that are well-organized, such as the .bed files that we have.\n",
    "\n",
    "For more information about various useful functionalities of pandas, go here:\n",
    "\n",
    "http://pandas.pydata.org/pandas-docs/stable/index.html\n",
    "\n",
    "You will also find a lot of helpful questions and answers that have been discussed in StackOverflow (simply google your question, and most likely, the top search results will be StackOverflow discussion threads)."
   ]
  },
  {
   "cell_type": "code",
   "execution_count": 57,
   "metadata": {
    "collapsed": true
   },
   "outputs": [],
   "source": [
    "# read_csv() function needs the parameter sep to tell it what your separator is\n",
    "train_bed = pandas.read_csv('data/intersected_final_chr1_cutoff_20_train.bed', sep='\\t', header=None)\n",
    "sample_p_bed = pandas.read_csv('data/intersected_final_chr1_cutoff_20_sample_partial.bed', sep='\\t', header=None)\n",
    "sample_f_bed = pandas.read_csv('data/intersected_final_chr1_cutoff_20_sample_full.bed', sep='\\t', header=None)"
   ]
  },
  {
   "cell_type": "code",
   "execution_count": null,
   "metadata": {
    "collapsed": false
   },
   "outputs": [],
   "source": [
    "# head() function outputs the first n rows of your data\n",
    "train_bed.head(n = 10)"
   ]
  },
  {
   "cell_type": "code",
   "execution_count": null,
   "metadata": {
    "collapsed": false
   },
   "outputs": [],
   "source": [
    "sample_f_bed.head(n = 10)"
   ]
  },
  {
   "cell_type": "markdown",
   "metadata": {},
   "source": [
    "The format of these .bed files are discussed in the github repo readme, as well as the assignment PDF."
   ]
  },
  {
   "cell_type": "code",
   "execution_count": 31,
   "metadata": {
    "collapsed": false
   },
   "outputs": [
    {
     "name": "stdout",
     "output_type": "stream",
     "text": [
      "7610\n",
      "(array([  1084,   1154,   1214, ..., 379252, 379258, 379368]),)\n"
     ]
    }
   ],
   "source": [
    "# You can refer to each *column* of the datatable by index:\n",
    "test_indeces = sample_p_bed[5]==1\n",
    "train_indeces = sample_p_bed[5]==0\n",
    "print(sum(test_indeces))\n",
    "print(np.where(test_indeces))"
   ]
  },
  {
   "cell_type": "markdown",
   "metadata": {},
   "source": [
    "There are 7610 positions (out of total 379551) where the last column entry is 1 (the positions that are observed in the 450K BeadChip).\n",
    "\n",
    "Now, let's try taking the mean of each row (mean methylation value across tissues at a location in chr1):"
   ]
  },
  {
   "cell_type": "code",
   "execution_count": 58,
   "metadata": {
    "collapsed": false
   },
   "outputs": [
    {
     "data": {
      "text/plain": [
       "0.78242620750000014"
      ]
     },
     "execution_count": 58,
     "metadata": {},
     "output_type": "execute_result"
    }
   ],
   "source": [
    "# mean() function with axis = 1 takes row-wise averages.\n",
    "row_wise_avgs = train_bed[list(range(4,37))].mean(axis=1)\n",
    "\n",
    "row_wise_avgs[0]"
   ]
  },
  {
   "cell_type": "markdown",
   "metadata": {},
   "source": [
    "You can see that the averages are all ratios (between 0 and 1)."
   ]
  },
  {
   "cell_type": "code",
   "execution_count": null,
   "metadata": {
    "collapsed": false
   },
   "outputs": [],
   "source": [
    "%matplotlib inline\n",
    "\n",
    "import matplotlib.pyplot as plt\n",
    "\n",
    "# the histogram of the data\n",
    "plt.hist(train_bed[list(range(4,37))].mean(axis=1).tolist(), 50)\n",
    "\n",
    "plt.xlabel('Mean methylation proportion')\n",
    "plt.ylabel('Frequency')\n",
    "plt.title('Distribution of mean methylation across 33 samples')\n",
    "\n",
    "plt.show()"
   ]
  },
  {
   "cell_type": "markdown",
   "metadata": {},
   "source": [
    "## How good is the mean approximation?\n",
    "\n",
    "We can ask a very naive question: how good is the mean approximation for imputation? In this case, we just fill in the test files with the mean of 33 samples, and see how well the approximation performs."
   ]
  },
  {
   "cell_type": "code",
   "execution_count": 59,
   "metadata": {
    "collapsed": false
   },
   "outputs": [
    {
     "name": "stdout",
     "output_type": "stream",
     "text": [
      "7523\n",
      "368411\n"
     ]
    }
   ],
   "source": [
    "# Let's take indices of the sample file that aren't nans for comparison:\n",
    "# By the way, learning the python list comprehension construction is totally worth it.\n",
    "# Check out http://www.secnetix.de/olli/Python/list_comprehensions.hawk if the following code confuses you.\n",
    "\n",
    "not_nans_in_full = ~np.isnan(sample_f_bed[4])\n",
    "test_indeces_nan_filtered = [test_indeces[x] and not_nans_in_full[x] for x in range(len(test_indeces))]\n",
    "\n",
    "print(sum(test_indeces_nan_filtered))\n",
    "\n",
    "train_indeces_nan_filtered = [train_indeces[x] and not_nans_in_full[x] for x in range(len(train_indeces))]\n",
    "\n",
    "print(sum(train_indeces_nan_filtered))"
   ]
  },
  {
   "cell_type": "code",
   "execution_count": 34,
   "metadata": {
    "collapsed": false
   },
   "outputs": [
    {
     "data": {
      "text/plain": [
       "array([[ 1.        ,  0.79374181],\n",
       "       [ 0.79374181,  1.        ]])"
      ]
     },
     "execution_count": 34,
     "metadata": {},
     "output_type": "execute_result"
    }
   ],
   "source": [
    "# Python list comprehension keeps coming up...\n",
    "row_means = train_bed[list(range(4,37))].mean(axis=1)\n",
    "test_indeces_nan_filtered_numeric = np.where(test_indeces_nan_filtered)[0]\n",
    "\n",
    "row_means_test = [row_means[x] for x in test_indeces_nan_filtered_numeric]\n",
    "partial_values_test = [sample_f_bed[4][x] for x in test_indeces_nan_filtered_numeric]\n",
    "\n",
    "np.corrcoef(row_means_test, partial_values_test)"
   ]
  },
  {
   "cell_type": "markdown",
   "metadata": {},
   "source": [
    "Among test values (7523 of them, we are seeing r = 0.79 and r^2 = 0.63)."
   ]
  },
  {
   "cell_type": "code",
   "execution_count": 35,
   "metadata": {
    "collapsed": false
   },
   "outputs": [
    {
     "name": "stdout",
     "output_type": "stream",
     "text": [
      "0.157066842941\n"
     ]
    }
   ],
   "source": [
    "# http://stackoverflow.com/questions/17197492/root-mean-square-error-in-python\n",
    "def rmse(predictions, targets):\n",
    "    return np.sqrt(((predictions - targets) ** 2).mean())\n",
    "\n",
    "print(rmse(np.array(row_means_test), np.array(partial_values_test)))"
   ]
  },
  {
   "cell_type": "markdown",
   "metadata": {},
   "source": [
    "And RMSE = 0.16. Let's see how well this generalizes to the rest of the test set, using the same method."
   ]
  },
  {
   "cell_type": "code",
   "execution_count": 36,
   "metadata": {
    "collapsed": false
   },
   "outputs": [
    {
     "name": "stdout",
     "output_type": "stream",
     "text": [
      "[[ 1.          0.77229991]\n",
      " [ 0.77229991  1.        ]]\n",
      "0.11748933978\n"
     ]
    }
   ],
   "source": [
    "train_indeces_nan_filtered_numeric = np.where(train_indeces_nan_filtered)[0]\n",
    "\n",
    "row_means_test = [row_means[x] for x in train_indeces_nan_filtered_numeric]\n",
    "full_values_test = [sample_f_bed[4][x] for x in train_indeces_nan_filtered_numeric]\n",
    "\n",
    "print(np.corrcoef(row_means_test, full_values_test))\n",
    "print(rmse(np.array(row_means_test), np.array(full_values_test)))"
   ]
  },
  {
   "cell_type": "markdown",
   "metadata": {},
   "source": [
    "We are seeing r = 0.772 (r^2 = 0.596), and RMSE = 0.117. This is not an excellent prediction (as you could probably guess), but let's see what happened with an informative graph:"
   ]
  },
  {
   "cell_type": "code",
   "execution_count": 37,
   "metadata": {
    "collapsed": false
   },
   "outputs": [
    {
     "ename": "NameError",
     "evalue": "name 'plt' is not defined",
     "output_type": "error",
     "traceback": [
      "\u001b[0;31m---------------------------------------------------------------------------\u001b[0m",
      "\u001b[0;31mNameError\u001b[0m                                 Traceback (most recent call last)",
      "\u001b[0;32m<ipython-input-37-29ba1407a26b>\u001b[0m in \u001b[0;36m<module>\u001b[0;34m()\u001b[0m\n\u001b[1;32m      1\u001b[0m \u001b[0mget_ipython\u001b[0m\u001b[0;34m(\u001b[0m\u001b[0;34m)\u001b[0m\u001b[0;34m.\u001b[0m\u001b[0mmagic\u001b[0m\u001b[0;34m(\u001b[0m\u001b[0;34mu'matplotlib inline'\u001b[0m\u001b[0;34m)\u001b[0m\u001b[0;34m\u001b[0m\u001b[0m\n\u001b[1;32m      2\u001b[0m \u001b[0;34m\u001b[0m\u001b[0m\n\u001b[0;32m----> 3\u001b[0;31m \u001b[0mplt\u001b[0m\u001b[0;34m.\u001b[0m\u001b[0mscatter\u001b[0m\u001b[0;34m(\u001b[0m\u001b[0mfull_values_test\u001b[0m\u001b[0;34m,\u001b[0m \u001b[0mrow_means_test\u001b[0m\u001b[0;34m)\u001b[0m\u001b[0;34m\u001b[0m\u001b[0m\n\u001b[0m\u001b[1;32m      4\u001b[0m \u001b[0;34m\u001b[0m\u001b[0m\n\u001b[1;32m      5\u001b[0m \u001b[0mplt\u001b[0m\u001b[0;34m.\u001b[0m\u001b[0mxlabel\u001b[0m\u001b[0;34m(\u001b[0m\u001b[0;34m'Actual methylation values'\u001b[0m\u001b[0;34m)\u001b[0m\u001b[0;34m\u001b[0m\u001b[0m\n",
      "\u001b[0;31mNameError\u001b[0m: name 'plt' is not defined"
     ]
    }
   ],
   "source": [
    "%matplotlib inline\n",
    "\n",
    "plt.scatter(full_values_test, row_means_test)\n",
    "\n",
    "plt.xlabel('Actual methylation values')\n",
    "plt.ylabel('Prediction by taking row means')\n",
    "plt.title('Performance of the simplest predictor (row means)')\n",
    "\n",
    "plt.show()"
   ]
  },
  {
   "cell_type": "markdown",
   "metadata": {},
   "source": [
    "This graph actually could have an interesting interpretation: at any given location with actual methylation values (slicing the graph vertically), there is a distribution of means across other tissues. Is this distribution roughly Gaussian? Or is it some other distribution? You can probe further to find out! You may come across interesting conclusions, but this is not in the scope of this assignment."
   ]
  },
  {
   "cell_type": "markdown",
   "metadata": {},
   "source": [
    "## Let's try one other very simple approach - imputation by similarity\n",
    "\n",
    "There is another very naive hypothesis we can test: that the imputation values will roughly follow the pattern of the most similar tissue. The simplest way to implement this is to simply fill in all values with the methylation value of the closest tissue. (more sensible methods will take some weighted average among the 33 known tissues, *hint* *hint* ;) )"
   ]
  },
  {
   "cell_type": "code",
   "execution_count": 38,
   "metadata": {
    "collapsed": false
   },
   "outputs": [
    {
     "name": "stdout",
     "output_type": "stream",
     "text": [
      "Sample 4 has r = \n",
      "0.378598417584\n",
      "Sample 5 has r = \n",
      "0.345252677334\n",
      "Sample 6 has r = \n",
      "0.361315960374\n",
      "Sample 7 has r = \n",
      "0.317478997909\n",
      "Sample 8 has r = \n",
      "0.747913758746\n",
      "Sample 9 has r = \n",
      "0.800082923738\n",
      "Sample 10 has r = \n",
      "0.819903104044\n",
      "Sample 11 has r = \n",
      "0.726106574721\n",
      "Sample 12 has r = \n",
      "0.622060560327\n",
      "Sample 13 has r = \n",
      "0.415857835124\n",
      "Sample 14 has r = \n",
      "0.489532506005\n",
      "Sample 15 has r = \n",
      "0.530428055146\n",
      "Sample 16 has r = \n",
      "0.49737091449\n",
      "Sample 17 has r = \n",
      "0.456762207392\n",
      "Sample 18 has r = \n",
      "0.42315902776\n",
      "Sample 19 has r = \n",
      "0.452502097166\n",
      "Sample 20 has r = \n",
      "0.472791940205\n",
      "Sample 21 has r = \n",
      "0.595136127269\n",
      "Sample 22 has r = \n",
      "0.468653133869\n",
      "Sample 23 has r = \n",
      "0.958137133375\n",
      "Sample 24 has r = \n",
      "0.903443669227\n",
      "Sample 25 has r = \n",
      "0.907276390419\n",
      "Sample 26 has r = \n",
      "0.901410887449\n",
      "Sample 27 has r = \n",
      "0.881939901448\n",
      "Sample 28 has r = \n",
      "0.870240568323\n",
      "Sample 29 has r = \n",
      "0.285251817427\n",
      "Sample 30 has r = \n",
      "0.746240943036\n",
      "Sample 31 has r = \n",
      "0.748603867482\n",
      "Sample 32 has r = \n",
      "0.561316455818\n",
      "Sample 33 has r = \n",
      "0.414797029478\n",
      "Sample 34 has r = \n",
      "0.465293045341\n",
      "Sample 35 has r = \n",
      "0.891189876985\n",
      "Sample 36 has r = \n",
      "0.425833780183\n"
     ]
    }
   ],
   "source": [
    "# we have partial_values_test defined from above:\n",
    "for i in range(4,37):\n",
    "    test_array = [train_bed[i][x] for x in test_indeces_nan_filtered_numeric]\n",
    "    test_array_mod = [test_array[x] for x in range(len(test_array)) if ~np.isnan(test_array[x])]\n",
    "    temp_partial_values_test = [partial_values_test[x] for x in range(len(partial_values_test)) if ~np.isnan(test_array[x])]\n",
    "    print(\"Sample \" + str(i) + \" has r = \")\n",
    "    print(np.corrcoef(test_array_mod, temp_partial_values_test)[0,1])\n"
   ]
  },
  {
   "cell_type": "markdown",
   "metadata": {},
   "source": [
    "Our test sample is very similar to sample 23 (r = 0.958!!). Let's fill in our predictions with values from sample 23 and see what happens:"
   ]
  },
  {
   "cell_type": "code",
   "execution_count": 65,
   "metadata": {
    "collapsed": false
   },
   "outputs": [
    {
     "name": "stdout",
     "output_type": "stream",
     "text": [
      "7523\n",
      "7523\n",
      "[[ 1.          0.95655349]\n",
      " [ 0.95655349  1.        ]]\n",
      "0.0698216801071\n"
     ]
    }
   ],
   "source": [
    "# samp_23_test = train_bed[23]\n",
    "test_indeces_nan_filtered_numeric = np.where(test_indeces_nan_filtered)[0]\n",
    "samp_23_test = [train_bed[23][x] for x in test_indeces_nan_filtered_numeric]\n",
    "full_values_test = [sample_f_bed[4][x] for x in test_indeces_nan_filtered_numeric]\n",
    "\n",
    "# Need to take out nans. However, in the real assignment, you must fill in the nans with some value for full imputation:\n",
    "# samp_23_test_mod = [samp_23_test[x] for x in range(len(samp_23_test)) if ~np.isnan(samp_23_test[x])]\n",
    "samp_23_test_mod = []\n",
    "for x in range(len(samp_23_test)):\n",
    "    if (~np.isnan(samp_23_test[x])):\n",
    "        samp_23_test_mod.append(samp_23_test[x])\n",
    "    else:\n",
    "        assert ~np.isnan(row_wise_avgs[x])\n",
    "        samp_23_test_mod.append(row_wise_avgs[x])\n",
    "\n",
    "# full_values_test_mod = [full_values_test[x] for x in range(len(samp_23_test)) if ~np.isnan(samp_23_test[x])]\n",
    "# samp_23_test_mod = [samp_23_test_mod[x] for x in range(len(full_values_test)) if ~np.isnan(full_values_test[x])]\n",
    "print len(samp_23_test_mod)\n",
    "print len(full_values_test)\n",
    "print(np.corrcoef(samp_23_test_mod, full_values_test))\n",
    "print(rmse(np.array(samp_23_test_mod), np.array(full_values_test)))"
   ]
  },
  {
   "cell_type": "code",
   "execution_count": 46,
   "metadata": {
    "collapsed": false
   },
   "outputs": [
    {
     "data": {
      "text/plain": [
       "0         0.913793\n",
       "1         0.931818\n",
       "2         0.917526\n",
       "3         0.933884\n",
       "4         0.936842\n",
       "5         0.951219\n",
       "6         0.897436\n",
       "7         0.862745\n",
       "8         0.939394\n",
       "9         0.965517\n",
       "10        0.939024\n",
       "11        0.967033\n",
       "12        0.941748\n",
       "13        0.971698\n",
       "14        0.905660\n",
       "15        0.941176\n",
       "16        0.971429\n",
       "17        0.960784\n",
       "18        0.948980\n",
       "19        0.906250\n",
       "20        0.714286\n",
       "21        0.829268\n",
       "22        0.525424\n",
       "23        0.295082\n",
       "24        0.132353\n",
       "25        0.486111\n",
       "26        0.485714\n",
       "27        0.657143\n",
       "28        0.539683\n",
       "29        0.469697\n",
       "            ...   \n",
       "379521    0.948276\n",
       "379522    0.957983\n",
       "379523    0.959350\n",
       "379524    0.921986\n",
       "379525    0.913043\n",
       "379526    0.922535\n",
       "379527    0.915493\n",
       "379528    0.866142\n",
       "379529    0.924242\n",
       "379530    0.906977\n",
       "379531    0.870690\n",
       "379532    0.897436\n",
       "379533    0.877193\n",
       "379534    0.864865\n",
       "379535    0.902655\n",
       "379536    0.929825\n",
       "379537    0.948276\n",
       "379538    0.921739\n",
       "379539    0.901786\n",
       "379540    0.939394\n",
       "379541    0.968254\n",
       "379542    0.935252\n",
       "379543    0.912752\n",
       "379544    0.972727\n",
       "379545    0.919643\n",
       "379546    0.944444\n",
       "379547    0.927928\n",
       "379548    0.897727\n",
       "379549    0.873418\n",
       "379550    0.961039\n",
       "Name: 4, dtype: float64"
      ]
     },
     "execution_count": 46,
     "metadata": {},
     "output_type": "execute_result"
    }
   ],
   "source": [
    "sample_f_bed[4]"
   ]
  },
  {
   "cell_type": "code",
   "execution_count": 67,
   "metadata": {
    "collapsed": false
   },
   "outputs": [
    {
     "data": {
      "image/png": "[encoded data removed]",
      "text/plain": [
       "<matplotlib.figure.Figure at 0x1326ab9d0>"
      ]
     },
     "metadata": {},
     "output_type": "display_data"
    }
   ],
   "source": [
    "%matplotlib inline\n",
    "import matplotlib.pyplot as plt\n",
    "\n",
    "\n",
    "plt.scatter(full_values_test, samp_23_test_mod)\n",
    "\n",
    "plt.xlabel('Actual methylation values')\n",
    "plt.ylabel('Prediction by taking values from the most similar sample')\n",
    "plt.title('Performance of the simplest predictor (row means)')\n",
    "\n",
    "plt.show()"
   ]
  },
  {
   "cell_type": "markdown",
   "metadata": {},
   "source": [
    "Even using this simple approach to use existing information from the sample_partial file provides a much better result (r = 0.922, r^2 = 0.850, RMSE = 0.067). Therefore, you can guess that from your assignment, we are generally expecting a result that is better than this, although we will not necessarily grade on accuracy of your imputation."
   ]
  },
  {
   "cell_type": "markdown",
   "metadata": {},
   "source": [
    "## Incorporating genetic and epigenetic information\n",
    "\n",
    "As you might be aware, the genome is not a random sequence of A,T,C,G's. There are a lot of information that is buried in the genome (a lot of which we still don't have a good understanding), and using annotations from previous experiments can help in analyses of studies that involving genetic sequences.\n",
    "\n",
    "For this exercise, we will import [ENCODE](https://www.encodeproject.org/) annotations of the genome into the pipeline. ENCODE outlines the putative regulatory elements in the genome that have been identified by a set of experiments. Since DNA methylation is an epigenetic feature, this set of information may give us a better understanding of the distribution of likely methylation sites.\n",
    "\n",
    "First, I navigate to ENCODE portal in UCSC genome browser:\n",
    "\n",
    "https://genome.ucsc.edu/ENCODE/downloads.html\n",
    "\n",
    "And want to incorporate information from transcription factor binding sites (Txn Factor ChIP):\n",
    "\n",
    "http://hgdownload.cse.ucsc.edu/goldenPath/hg19/encodeDCC/wgEncodeRegTfbsClustered/\n",
    "\n",
    "Note: Refer to https://en.wikipedia.org/wiki/Transcription_factor for more information on transcription factors. In short, they are a set of proteins that bind to different regions in the genome to modulate gene expression, which leads to protein production."
   ]
  },
  {
   "cell_type": "code",
   "execution_count": 4,
   "metadata": {
    "collapsed": false
   },
   "outputs": [],
   "source": [
    "# Note: this code assumes that you downloaded the Transcription factor database from ENCODE under ./annotations/\n",
    "txn_factors = pandas.read_csv('annotations/wgEncodeRegTfbsClusteredV3.bed', sep='\\t', header=None)"
   ]
  },
  {
   "cell_type": "code",
   "execution_count": 5,
   "metadata": {
    "collapsed": false
   },
   "outputs": [
    {
     "data": {
      "text/html": [
       "<div>\n",
       "<table border=\"1\" class=\"dataframe\">\n",
       "  <thead>\n",
       "    <tr style=\"text-align: right;\">\n",
       "      <th></th>\n",
       "      <th>0</th>\n",
       "      <th>1</th>\n",
       "      <th>2</th>\n",
       "      <th>3</th>\n",
       "      <th>4</th>\n",
       "      <th>5</th>\n",
       "      <th>6</th>\n",
       "      <th>7</th>\n",
       "    </tr>\n",
       "  </thead>\n",
       "  <tbody>\n",
       "    <tr>\n",
       "      <th>0</th>\n",
       "      <td>chr1</td>\n",
       "      <td>10073</td>\n",
       "      <td>10329</td>\n",
       "      <td>ZBTB33</td>\n",
       "      <td>354</td>\n",
       "      <td>2</td>\n",
       "      <td>204,246</td>\n",
       "      <td>354,138</td>\n",
       "    </tr>\n",
       "    <tr>\n",
       "      <th>1</th>\n",
       "      <td>chr1</td>\n",
       "      <td>10149</td>\n",
       "      <td>10413</td>\n",
       "      <td>CEBPB</td>\n",
       "      <td>201</td>\n",
       "      <td>1</td>\n",
       "      <td>343</td>\n",
       "      <td>201</td>\n",
       "    </tr>\n",
       "    <tr>\n",
       "      <th>2</th>\n",
       "      <td>chr1</td>\n",
       "      <td>16110</td>\n",
       "      <td>16390</td>\n",
       "      <td>CTCF</td>\n",
       "      <td>227</td>\n",
       "      <td>7</td>\n",
       "      <td>213,612,621,627,628,631,662</td>\n",
       "      <td>110,139,171,209,227,200,170</td>\n",
       "    </tr>\n",
       "    <tr>\n",
       "      <th>3</th>\n",
       "      <td>chr1</td>\n",
       "      <td>29198</td>\n",
       "      <td>29688</td>\n",
       "      <td>TAF1</td>\n",
       "      <td>184</td>\n",
       "      <td>1</td>\n",
       "      <td>157</td>\n",
       "      <td>184</td>\n",
       "    </tr>\n",
       "    <tr>\n",
       "      <th>4</th>\n",
       "      <td>chr1</td>\n",
       "      <td>29275</td>\n",
       "      <td>29591</td>\n",
       "      <td>GABPA</td>\n",
       "      <td>198</td>\n",
       "      <td>1</td>\n",
       "      <td>180</td>\n",
       "      <td>198</td>\n",
       "    </tr>\n",
       "    <tr>\n",
       "      <th>5</th>\n",
       "      <td>chr1</td>\n",
       "      <td>89795</td>\n",
       "      <td>90051</td>\n",
       "      <td>USF1</td>\n",
       "      <td>185</td>\n",
       "      <td>2</td>\n",
       "      <td>68,202</td>\n",
       "      <td>146,185</td>\n",
       "    </tr>\n",
       "    <tr>\n",
       "      <th>6</th>\n",
       "      <td>chr1</td>\n",
       "      <td>91156</td>\n",
       "      <td>91580</td>\n",
       "      <td>CTCF</td>\n",
       "      <td>223</td>\n",
       "      <td>9</td>\n",
       "      <td>9,640,645,657,663,669,672,675,685</td>\n",
       "      <td>183,223,138,115,115,145,141,144,220</td>\n",
       "    </tr>\n",
       "    <tr>\n",
       "      <th>7</th>\n",
       "      <td>chr1</td>\n",
       "      <td>104859</td>\n",
       "      <td>105089</td>\n",
       "      <td>CTCF</td>\n",
       "      <td>106</td>\n",
       "      <td>2</td>\n",
       "      <td>48,49</td>\n",
       "      <td>87,106</td>\n",
       "    </tr>\n",
       "    <tr>\n",
       "      <th>8</th>\n",
       "      <td>chr1</td>\n",
       "      <td>138850</td>\n",
       "      <td>139274</td>\n",
       "      <td>CTCF</td>\n",
       "      <td>166</td>\n",
       "      <td>3</td>\n",
       "      <td>24,213,679</td>\n",
       "      <td>166,125,127</td>\n",
       "    </tr>\n",
       "    <tr>\n",
       "      <th>9</th>\n",
       "      <td>chr1</td>\n",
       "      <td>235541</td>\n",
       "      <td>235877</td>\n",
       "      <td>SP1</td>\n",
       "      <td>120</td>\n",
       "      <td>1</td>\n",
       "      <td>196</td>\n",
       "      <td>120</td>\n",
       "    </tr>\n",
       "  </tbody>\n",
       "</table>\n",
       "</div>"
      ],
      "text/plain": [
       "      0       1       2       3    4  5                                  6  \\\n",
       "0  chr1   10073   10329  ZBTB33  354  2                            204,246   \n",
       "1  chr1   10149   10413   CEBPB  201  1                                343   \n",
       "2  chr1   16110   16390    CTCF  227  7        213,612,621,627,628,631,662   \n",
       "3  chr1   29198   29688    TAF1  184  1                                157   \n",
       "4  chr1   29275   29591   GABPA  198  1                                180   \n",
       "5  chr1   89795   90051    USF1  185  2                             68,202   \n",
       "6  chr1   91156   91580    CTCF  223  9  9,640,645,657,663,669,672,675,685   \n",
       "7  chr1  104859  105089    CTCF  106  2                              48,49   \n",
       "8  chr1  138850  139274    CTCF  166  3                         24,213,679   \n",
       "9  chr1  235541  235877     SP1  120  1                                196   \n",
       "\n",
       "                                     7  \n",
       "0                              354,138  \n",
       "1                                  201  \n",
       "2          110,139,171,209,227,200,170  \n",
       "3                                  184  \n",
       "4                                  198  \n",
       "5                              146,185  \n",
       "6  183,223,138,115,115,145,141,144,220  \n",
       "7                               87,106  \n",
       "8                          166,125,127  \n",
       "9                                  120  "
      ]
     },
     "execution_count": 5,
     "metadata": {},
     "output_type": "execute_result"
    }
   ],
   "source": [
    "txn_factors.head(n = 10)"
   ]
  },
  {
   "cell_type": "markdown",
   "metadata": {},
   "source": [
    "You can see that this file is also in bed format. You don't have to pay too much attention columns after 4 (it outlines details of the experimental evidence of this transcription factor). You are familiar with columns 0, 1 and 2, and column 3 outlines which transcription factor binds to this location."
   ]
  },
  {
   "cell_type": "code",
   "execution_count": 6,
   "metadata": {
    "collapsed": false
   },
   "outputs": [
    {
     "name": "stdout",
     "output_type": "stream",
     "text": [
      "set(['HSF1', 'SMARCC2', 'SMARCC1', 'POLR3G', 'MAFK', 'CCNT2', 'MAFF', 'ZNF143', 'BHLHE40', 'SIX5', 'HDAC6', 'BCLAF1', 'ZNF263', 'MYC', 'SETDB1', 'BRCA1', 'TRIM28', 'SP1', 'SP2', 'SP4', 'CREB1', 'ESRRA', 'NR2C2', 'GATA2', 'GATA3', 'GATA1', 'GTF2F1', 'RFX5', 'MAZ', 'RBBP5', 'FOXA1', 'RUNX3', 'ELK1', 'POU2F2', 'TCF12', 'CTBP2', 'MTA3', 'KDM5A', 'KDM5B', 'FOXP2', 'NFATC1', 'ZNF217', 'PRDM1', 'HMGN3', 'FAM48A', 'GTF3C2', 'TCF7L2', 'SMARCB1', 'SIRT6', 'CHD1', 'ZKSCAN1', 'CHD2', 'SAP30', 'RDBP', 'IKZF1', 'BACH1', 'EGR1', 'JUN', 'PPARGC1A', 'GTF2B', 'FOXA2', 'NFE2', 'KAP1', 'ZBTB33', 'ELK4', 'TCF3', 'FOS', 'ZNF274', 'PAX5', 'POLR2A', 'BRF2', 'STAT3', 'BRF1', 'ZEB1', 'TAF7', 'GRp20', 'TAF1', 'ESR1', 'TBP', 'HNF4G', 'HNF4A', 'MEF2C', 'MEF2A', 'CTCF', 'PHF8', 'HDAC1', 'HDAC2', 'YY1', 'BATF', 'HDAC8', 'RCOR1', 'FOXM1', 'SREBP1', 'CBX3', 'IRF3', 'SPI1', 'NANOG', 'STAT2', 'STAT1', 'SMC3', 'NR2F2', 'USF2', 'USF1', 'FOSL1', 'FOSL2', 'PML', 'ARID3A', 'TAL1', 'E2F6', 'BDP1', 'IRF1', 'MAX', 'EP300', 'RELA', 'TBL1XR1', 'IRF4', 'STAT5A', 'GABPA', 'NRF1', 'JUNB', 'BCL11A', 'JUND', 'WRNIP1', 'NFYB', 'NFYA', 'EZH2', 'ELF1', 'SRF', 'MYBL2', 'SMARCA4', 'TEAD4', 'CEBPB', 'CTCFL', 'TFAP2A', 'TFAP2C', 'UBTF', 'ZZZ3', 'ETS1', 'SUZ12', 'RPC155', 'SIN3A', 'NR3C1', 'ZBTB7A', 'RAD21', 'REST', 'RXRA', 'POU5F1', 'EBF1', 'PBX3', 'NFIC', 'THAP1', 'E2F4', 'E2F1', 'MXI1', 'CEBPD', 'SIN3AK20', 'MBD4', 'BCL3', 'ATF1', 'ATF3', 'ATF2'])\n",
      "161\n"
     ]
    }
   ],
   "source": [
    "# set() function takes the unique values from an array. There are 161 distinct TFs in this table.\n",
    "print(set(txn_factors[3]))\n",
    "print(len(set(txn_factors[3])))"
   ]
  },
  {
   "cell_type": "code",
   "execution_count": 7,
   "metadata": {
    "collapsed": true
   },
   "outputs": [],
   "source": [
    "# How many rows from each factor?\n",
    "factor_dict = {}\n",
    "for item in txn_factors[3]:\n",
    "    if item not in factor_dict:\n",
    "        factor_dict[item] = 0\n",
    "    factor_dict[item] += 1"
   ]
  },
  {
   "cell_type": "code",
   "execution_count": 8,
   "metadata": {
    "collapsed": false
   },
   "outputs": [
    {
     "name": "stdout",
     "output_type": "stream",
     "text": [
      "CTCF : 162209\n",
      "CEBPB : 146873\n",
      "EP300 : 138836\n",
      "POLR2A : 134990\n",
      "FOS : 131528\n",
      "RAD21 : 119039\n",
      "JUND : 97411\n",
      "MYC : 96959\n",
      "FOXA1 : 89906\n",
      "MAX : 85949\n",
      "MAFK : 84087\n",
      "GATA2 : 73974\n",
      "STAT3 : 67977\n",
      "SPI1 : 67572\n",
      "RUNX3 : 66222\n"
     ]
    }
   ],
   "source": [
    "# sorted() function sorts entries in a dictionary by the metric you specify.\n",
    "sorted_factors = sorted(factor_dict, key=factor_dict.get, reverse=True)\n",
    "for i in range(15):\n",
    "    print(sorted_factors[i] + \" : \" + str(factor_dict[sorted_factors[i]]))"
   ]
  },
  {
   "cell_type": "code",
   "execution_count": 16,
   "metadata": {
    "collapsed": true
   },
   "outputs": [],
   "source": [
    "# Let's only take CTCF entries in chr1.\n",
    "# List comprehension comes to save the day again.\n",
    "rows_to_take = [txn_factors[0][x] == 'chr1' and txn_factors[3][x] == 'CTCF' for x in range(len(txn_factors[0]))]"
   ]
  },
  {
   "cell_type": "code",
   "execution_count": 23,
   "metadata": {
    "collapsed": false
   },
   "outputs": [
    {
     "data": {
      "text/plain": [
       "14627"
      ]
     },
     "execution_count": 23,
     "metadata": {},
     "output_type": "execute_result"
    }
   ],
   "source": [
    "len(txn_factors[1][np.where(rows_to_take)[0]])"
   ]
  },
  {
   "cell_type": "code",
   "execution_count": 24,
   "metadata": {
    "collapsed": false
   },
   "outputs": [
    {
     "data": {
      "image/png": "[encoded data removed]",
      "text/plain": [
       "<matplotlib.figure.Figure at 0x10c48a550>"
      ]
     },
     "metadata": {},
     "output_type": "display_data"
    }
   ],
   "source": [
    "%matplotlib inline\n",
    "\n",
    "import matplotlib.pyplot as plt\n",
    "\n",
    "# the histogram of the data\n",
    "plt.hist(txn_factors[1][np.where(rows_to_take)[0]].tolist(), 1000)\n",
    "\n",
    "plt.xlabel('Location in Chr 1')\n",
    "plt.ylabel('Frequency')\n",
    "plt.title('Distribution of CTCF element sites in Chr 1')\n",
    "\n",
    "plt.show()"
   ]
  },
  {
   "cell_type": "markdown",
   "metadata": {},
   "source": [
    "There is a big gaping hole in the middle of the chromosome. What is going on? If you have a little bit of background in biology, you may be able to guess right away.\n",
    "\n",
    "Let me give you a hint:\n",
    "\n",
    "https://en.wikipedia.org/wiki/Centromere"
   ]
  }
 ],
 "metadata": {
  "kernelspec": {
   "display_name": "Python 2",
   "language": "python",
   "name": "python2"
  },
  "language_info": {
   "codemirror_mode": {
    "name": "ipython",
    "version": 2
   },
   "file_extension": ".py",
   "mimetype": "text/x-python",
   "name": "python",
   "nbconvert_exporter": "python",
   "pygments_lexer": "ipython2",
   "version": "2.7.10"
  }
 },
 "nbformat": 4,
 "nbformat_minor": 0
}
